{
 "cells": [
  {
   "cell_type": "markdown",
   "metadata": {},
   "source": [
    "# Stock Prediction"
   ]
  },
  {
   "cell_type": "markdown",
   "metadata": {},
   "source": [
    "We will train Apple stock price dataset (1-1-2010 to 31-12-2018) using LSTM"
   ]
  },
  {
   "cell_type": "code",
   "execution_count": 1,
   "metadata": {
    "collapsed": false
   },
   "outputs": [
    {
     "name": "stderr",
     "output_type": "stream",
     "text": [
      "Using TensorFlow backend.\n"
     ]
    }
   ],
   "source": [
    "import numpy as np\n",
    "import matplotlib.pyplot as plt\n",
    "import pandas as pd\n",
    "import datetime\n",
    "from sklearn.preprocessing import MinMaxScaler\n",
    "from keras.models import Sequential\n",
    "from keras.layers import Dense,LSTM,Dropout"
   ]
  },
  {
   "cell_type": "markdown",
   "metadata": {},
   "source": [
    "## Data preprocessing"
   ]
  },
  {
   "cell_type": "code",
   "execution_count": 2,
   "metadata": {
    "collapsed": false,
    "scrolled": true
   },
   "outputs": [
    {
     "data": {
      "text/html": [
       "<div>\n",
       "<style scoped>\n",
       "    .dataframe tbody tr th:only-of-type {\n",
       "        vertical-align: middle;\n",
       "    }\n",
       "\n",
       "    .dataframe tbody tr th {\n",
       "        vertical-align: top;\n",
       "    }\n",
       "\n",
       "    .dataframe thead th {\n",
       "        text-align: right;\n",
       "    }\n",
       "</style>\n",
       "<table border=\"1\" class=\"dataframe\">\n",
       "  <thead>\n",
       "    <tr style=\"text-align: right;\">\n",
       "      <th></th>\n",
       "      <th>Date</th>\n",
       "      <th>Open</th>\n",
       "      <th>High</th>\n",
       "      <th>Low</th>\n",
       "      <th>Close</th>\n",
       "      <th>Volume</th>\n",
       "    </tr>\n",
       "  </thead>\n",
       "  <tbody>\n",
       "    <tr>\n",
       "      <th>0</th>\n",
       "      <td>1/4/2010</td>\n",
       "      <td>30.490000</td>\n",
       "      <td>30.642857</td>\n",
       "      <td>30.340000</td>\n",
       "      <td>30.572857</td>\n",
       "      <td>123432400</td>\n",
       "    </tr>\n",
       "    <tr>\n",
       "      <th>1</th>\n",
       "      <td>1/5/2010</td>\n",
       "      <td>30.657143</td>\n",
       "      <td>30.798571</td>\n",
       "      <td>30.464285</td>\n",
       "      <td>30.625713</td>\n",
       "      <td>150476200</td>\n",
       "    </tr>\n",
       "    <tr>\n",
       "      <th>2</th>\n",
       "      <td>1/6/2010</td>\n",
       "      <td>30.625713</td>\n",
       "      <td>30.747143</td>\n",
       "      <td>30.107143</td>\n",
       "      <td>30.138571</td>\n",
       "      <td>138040000</td>\n",
       "    </tr>\n",
       "    <tr>\n",
       "      <th>3</th>\n",
       "      <td>1/7/2010</td>\n",
       "      <td>30.250000</td>\n",
       "      <td>30.285715</td>\n",
       "      <td>29.864286</td>\n",
       "      <td>30.082857</td>\n",
       "      <td>119282800</td>\n",
       "    </tr>\n",
       "    <tr>\n",
       "      <th>4</th>\n",
       "      <td>1/8/2010</td>\n",
       "      <td>30.042856</td>\n",
       "      <td>30.285715</td>\n",
       "      <td>29.865715</td>\n",
       "      <td>30.282858</td>\n",
       "      <td>111902700</td>\n",
       "    </tr>\n",
       "  </tbody>\n",
       "</table>\n",
       "</div>"
      ],
      "text/plain": [
       "       Date       Open       High        Low      Close     Volume\n",
       "0  1/4/2010  30.490000  30.642857  30.340000  30.572857  123432400\n",
       "1  1/5/2010  30.657143  30.798571  30.464285  30.625713  150476200\n",
       "2  1/6/2010  30.625713  30.747143  30.107143  30.138571  138040000\n",
       "3  1/7/2010  30.250000  30.285715  29.864286  30.082857  119282800\n",
       "4  1/8/2010  30.042856  30.285715  29.865715  30.282858  111902700"
      ]
     },
     "execution_count": 2,
     "metadata": {},
     "output_type": "execute_result"
    }
   ],
   "source": [
    "train_data = pd.read_csv('Apple_Stock_Price_Train.csv')\n",
    "train_data.head()"
   ]
  },
  {
   "cell_type": "code",
   "execution_count": 3,
   "metadata": {
    "collapsed": false
   },
   "outputs": [
    {
     "data": {
      "image/png": "[encoded data removed]",
      "text/plain": [
       "<Figure size 432x288 with 1 Axes>"
      ]
     },
     "metadata": {},
     "output_type": "display_data"
    }
   ],
   "source": [
    "visual_data = pd.read_csv('Apple_Stock_Price_Train.csv',parse_dates=['Date'])\n",
    "visual_data.set_index('Date',inplace=True)\n",
    "plt.plot(visual_data['Open'])\n",
    "plt.show()"
   ]
  },
  {
   "cell_type": "code",
   "execution_count": 4,
   "metadata": {
    "collapsed": true
   },
   "outputs": [],
   "source": [
    "train_set = train_data.iloc[:,1:2].values\n",
    "# Feature scaling\n",
    "sc = MinMaxScaler(feature_range=(0,1))\n",
    "train_set_scaled = sc.fit_transform(train_set)"
   ]
  },
  {
   "cell_type": "markdown",
   "metadata": {},
   "source": [
    "Each month consists of 20 financial days.Here we use 60 past days data to predict the present stock price.\n",
    "\n",
    "X_train consists of previous 60 days price, while Y_train consist of present day price"
   ]
  },
  {
   "cell_type": "code",
   "execution_count": 5,
   "metadata": {
    "collapsed": false
   },
   "outputs": [
    {
     "name": "stdout",
     "output_type": "stream",
     "text": [
      "(2204, 60)\n",
      "(2204, 60, 1)\n"
     ]
    }
   ],
   "source": [
    "X_train = []\n",
    "Y_train = []\n",
    "\n",
    "for i in range(60,2264):\n",
    "    X_train.append(train_set_scaled[i-60:i,0])\n",
    "    Y_train.append(train_set_scaled[i,0])\n",
    "\n",
    "X_train,Y_train = np.array(X_train), np.array(Y_train)\n",
    "\n",
    "# Reshape the data\n",
    "print(X_train.shape)\n",
    "X_train = np.reshape(X_train,(X_train.shape[0],X_train.shape[1],1))\n",
    "print(X_train.shape)"
   ]
  },
  {
   "cell_type": "markdown",
   "metadata": {},
   "source": [
    "## Build Model"
   ]
  },
  {
   "cell_type": "markdown",
   "metadata": {},
   "source": [
    "We are going to build 4 LSTM stacked layers with each layer of 50 cells."
   ]
  },
  {
   "cell_type": "code",
   "execution_count": 6,
   "metadata": {
    "collapsed": false
   },
   "outputs": [
    {
     "name": "stdout",
     "output_type": "stream",
     "text": [
      "_________________________________________________________________\n",
      "Layer (type)                 Output Shape              Param #   \n",
      "=================================================================\n",
      "lstm_1 (LSTM)                (None, 60, 50)            10400     \n",
      "_________________________________________________________________\n",
      "dropout_1 (Dropout)          (None, 60, 50)            0         \n",
      "_________________________________________________________________\n",
      "lstm_2 (LSTM)                (None, 60, 50)            20200     \n",
      "_________________________________________________________________\n",
      "dropout_2 (Dropout)          (None, 60, 50)            0         \n",
      "_________________________________________________________________\n",
      "lstm_3 (LSTM)                (None, 60, 50)            20200     \n",
      "_________________________________________________________________\n",
      "dropout_3 (Dropout)          (None, 60, 50)            0         \n",
      "_________________________________________________________________\n",
      "lstm_4 (LSTM)                (None, 50)                20200     \n",
      "_________________________________________________________________\n",
      "dropout_4 (Dropout)          (None, 50)                0         \n",
      "_________________________________________________________________\n",
      "dense_1 (Dense)              (None, 1)                 51        \n",
      "=================================================================\n",
      "Total params: 71,051\n",
      "Trainable params: 71,051\n",
      "Non-trainable params: 0\n",
      "_________________________________________________________________\n"
     ]
    }
   ],
   "source": [
    "regressor = Sequential()\n",
    "\n",
    "# First layer\n",
    "regressor.add(LSTM(units=50, return_sequences=True, input_shape=(X_train.shape[1],1)))\n",
    "regressor.add(Dropout(0.2))\n",
    "\n",
    "# Second Layer\n",
    "regressor.add(LSTM(units=50,return_sequences=True))\n",
    "regressor.add(Dropout(0.2))\n",
    "\n",
    "# Third Layer\n",
    "regressor.add(LSTM(units=50,return_sequences=True))\n",
    "regressor.add(Dropout(0.2))\n",
    "\n",
    "# Fourth Layer\n",
    "regressor.add(LSTM(units=50))\n",
    "regressor.add(Dropout(0.2))\n",
    "\n",
    "# Output Layer\n",
    "regressor.add(Dense(units=1))\n",
    "\n",
    "regressor.summary()"
   ]
  },
  {
   "cell_type": "code",
   "execution_count": 7,
   "metadata": {
    "collapsed": false
   },
   "outputs": [
    {
     "name": "stdout",
     "output_type": "stream",
     "text": [
      "Epoch 1/100\n",
      "2204/2204 [==============================] - 16s 7ms/step - loss: 0.0119\n",
      "Epoch 2/100\n",
      "2204/2204 [==============================] - 12s 6ms/step - loss: 0.0026\n",
      "Epoch 3/100\n",
      "2204/2204 [==============================] - 12s 5ms/step - loss: 0.0026\n",
      "Epoch 4/100\n",
      "2204/2204 [==============================] - 12s 5ms/step - loss: 0.0027\n",
      "Epoch 5/100\n",
      "2204/2204 [==============================] - 12s 5ms/step - loss: 0.0023\n",
      "Epoch 6/100\n",
      "2204/2204 [==============================] - 12s 5ms/step - loss: 0.0022\n",
      "Epoch 7/100\n",
      "2204/2204 [==============================] - 12s 5ms/step - loss: 0.0021\n",
      "Epoch 8/100\n",
      "2204/2204 [==============================] - 12s 5ms/step - loss: 0.0019\n",
      "Epoch 9/100\n",
      "2204/2204 [==============================] - 12s 5ms/step - loss: 0.0017\n",
      "Epoch 10/100\n",
      "2204/2204 [==============================] - 12s 5ms/step - loss: 0.0018\n",
      "Epoch 11/100\n",
      "2204/2204 [==============================] - 12s 5ms/step - loss: 0.0016\n",
      "Epoch 12/100\n",
      "2204/2204 [==============================] - 12s 5ms/step - loss: 0.0018\n",
      "Epoch 13/100\n",
      "2204/2204 [==============================] - 12s 5ms/step - loss: 0.0019\n",
      "Epoch 14/100\n",
      "2204/2204 [==============================] - 12s 5ms/step - loss: 0.0016\n",
      "Epoch 15/100\n",
      "2204/2204 [==============================] - 12s 5ms/step - loss: 0.0015\n",
      "Epoch 16/100\n",
      "2204/2204 [==============================] - 12s 5ms/step - loss: 0.0016\n",
      "Epoch 17/100\n",
      "2204/2204 [==============================] - 12s 5ms/step - loss: 0.0015\n",
      "Epoch 18/100\n",
      "2204/2204 [==============================] - 12s 6ms/step - loss: 0.0014\n",
      "Epoch 19/100\n",
      "2204/2204 [==============================] - 12s 5ms/step - loss: 0.0014\n",
      "Epoch 20/100\n",
      "2204/2204 [==============================] - 12s 5ms/step - loss: 0.0014\n",
      "Epoch 21/100\n",
      "2204/2204 [==============================] - 12s 5ms/step - loss: 0.0013\n",
      "Epoch 22/100\n",
      "2204/2204 [==============================] - 12s 5ms/step - loss: 0.0013\n",
      "Epoch 23/100\n",
      "2204/2204 [==============================] - 12s 5ms/step - loss: 0.0014\n",
      "Epoch 24/100\n",
      "2204/2204 [==============================] - 12s 5ms/step - loss: 0.0012\n",
      "Epoch 25/100\n",
      "2204/2204 [==============================] - 12s 5ms/step - loss: 0.0012\n",
      "Epoch 26/100\n",
      "2204/2204 [==============================] - 12s 5ms/step - loss: 0.0012\n",
      "Epoch 27/100\n",
      "2204/2204 [==============================] - 12s 6ms/step - loss: 9.8053e-04\n",
      "Epoch 28/100\n",
      "2204/2204 [==============================] - 12s 5ms/step - loss: 0.0012\n",
      "Epoch 29/100\n",
      "2204/2204 [==============================] - 12s 5ms/step - loss: 0.0010\n",
      "Epoch 30/100\n",
      "2204/2204 [==============================] - 12s 5ms/step - loss: 0.0011\n",
      "Epoch 31/100\n",
      "2204/2204 [==============================] - 12s 5ms/step - loss: 0.0010\n",
      "Epoch 32/100\n",
      "2204/2204 [==============================] - 12s 5ms/step - loss: 9.4903e-04\n",
      "Epoch 33/100\n",
      "2204/2204 [==============================] - 14s 6ms/step - loss: 0.0011\n",
      "Epoch 34/100\n",
      "2204/2204 [==============================] - 14s 6ms/step - loss: 9.7349e-04\n",
      "Epoch 35/100\n",
      "2204/2204 [==============================] - 12s 5ms/step - loss: 0.0010\n",
      "Epoch 36/100\n",
      "2204/2204 [==============================] - 12s 5ms/step - loss: 9.8094e-04\n",
      "Epoch 37/100\n",
      "2204/2204 [==============================] - 12s 5ms/step - loss: 8.7243e-04\n",
      "Epoch 38/100\n",
      "2204/2204 [==============================] - 12s 5ms/step - loss: 9.0925e-04\n",
      "Epoch 39/100\n",
      "2204/2204 [==============================] - 12s 5ms/step - loss: 9.3756e-04\n",
      "Epoch 40/100\n",
      "2204/2204 [==============================] - 12s 5ms/step - loss: 9.8675e-04\n",
      "Epoch 41/100\n",
      "2204/2204 [==============================] - 12s 5ms/step - loss: 9.5981e-04\n",
      "Epoch 42/100\n",
      "2204/2204 [==============================] - 12s 5ms/step - loss: 8.4799e-04\n",
      "Epoch 43/100\n",
      "2204/2204 [==============================] - 12s 5ms/step - loss: 8.3862e-04\n",
      "Epoch 44/100\n",
      "2204/2204 [==============================] - 12s 5ms/step - loss: 9.0048e-04\n",
      "Epoch 45/100\n",
      "2204/2204 [==============================] - 12s 5ms/step - loss: 9.4833e-04\n",
      "Epoch 46/100\n",
      "2204/2204 [==============================] - 12s 5ms/step - loss: 9.1779e-04\n",
      "Epoch 47/100\n",
      "2204/2204 [==============================] - 12s 5ms/step - loss: 8.4279e-04\n",
      "Epoch 48/100\n",
      "2204/2204 [==============================] - 12s 5ms/step - loss: 8.3752e-04\n",
      "Epoch 49/100\n",
      "2204/2204 [==============================] - 12s 5ms/step - loss: 9.2928e-04\n",
      "Epoch 50/100\n",
      "2204/2204 [==============================] - 12s 5ms/step - loss: 8.3591e-04\n",
      "Epoch 51/100\n",
      "2204/2204 [==============================] - 12s 5ms/step - loss: 7.4326e-04\n",
      "Epoch 52/100\n",
      "2204/2204 [==============================] - 12s 6ms/step - loss: 7.7918e-04\n",
      "Epoch 53/100\n",
      "2204/2204 [==============================] - 12s 5ms/step - loss: 7.5370e-04\n",
      "Epoch 54/100\n",
      "2204/2204 [==============================] - 12s 5ms/step - loss: 8.3896e-04\n",
      "Epoch 55/100\n",
      "2204/2204 [==============================] - 12s 5ms/step - loss: 7.9935e-04\n",
      "Epoch 56/100\n",
      "2204/2204 [==============================] - 12s 5ms/step - loss: 8.1942e-04\n",
      "Epoch 57/100\n",
      "2204/2204 [==============================] - 12s 5ms/step - loss: 7.0816e-04\n",
      "Epoch 58/100\n",
      "2204/2204 [==============================] - 12s 5ms/step - loss: 7.6402e-04\n",
      "Epoch 59/100\n",
      "2204/2204 [==============================] - 12s 5ms/step - loss: 6.7658e-04\n",
      "Epoch 60/100\n",
      "2204/2204 [==============================] - 12s 5ms/step - loss: 6.7966e-04\n",
      "Epoch 61/100\n",
      "2204/2204 [==============================] - 12s 5ms/step - loss: 7.2011e-04\n",
      "Epoch 62/100\n",
      "2204/2204 [==============================] - 11s 5ms/step - loss: 7.7469e-04\n",
      "Epoch 63/100\n",
      "2204/2204 [==============================] - 11s 5ms/step - loss: 6.7767e-04\n",
      "Epoch 64/100\n",
      "2204/2204 [==============================] - 11s 5ms/step - loss: 6.7696e-04\n",
      "Epoch 65/100\n",
      "2204/2204 [==============================] - 11s 5ms/step - loss: 7.7854e-04\n",
      "Epoch 66/100\n",
      "2204/2204 [==============================] - 11s 5ms/step - loss: 7.4689e-04\n",
      "Epoch 67/100\n",
      "2204/2204 [==============================] - 11s 5ms/step - loss: 6.3852e-04\n",
      "Epoch 68/100\n",
      "2204/2204 [==============================] - 11s 5ms/step - loss: 7.6367e-04\n",
      "Epoch 69/100\n",
      "2204/2204 [==============================] - 11s 5ms/step - loss: 6.5207e-04\n",
      "Epoch 70/100\n",
      "2204/2204 [==============================] - 11s 5ms/step - loss: 7.1945e-04\n",
      "Epoch 71/100\n",
      "2204/2204 [==============================] - 11s 5ms/step - loss: 7.7846e-04\n",
      "Epoch 72/100\n",
      "2204/2204 [==============================] - 11s 5ms/step - loss: 6.7033e-04\n",
      "Epoch 73/100\n",
      "2204/2204 [==============================] - 11s 5ms/step - loss: 6.1572e-04\n",
      "Epoch 74/100\n",
      "2204/2204 [==============================] - 11s 5ms/step - loss: 8.2754e-04\n",
      "Epoch 75/100\n",
      "2204/2204 [==============================] - 11s 5ms/step - loss: 6.9541e-04\n",
      "Epoch 76/100\n",
      "2204/2204 [==============================] - 11s 5ms/step - loss: 6.4001e-04\n",
      "Epoch 77/100\n",
      "2204/2204 [==============================] - 12s 5ms/step - loss: 7.0384e-04\n",
      "Epoch 78/100\n",
      "2204/2204 [==============================] - 13s 6ms/step - loss: 7.7347e-04\n",
      "Epoch 79/100\n",
      "2204/2204 [==============================] - 12s 5ms/step - loss: 6.5625e-04\n",
      "Epoch 80/100\n",
      "2204/2204 [==============================] - 12s 5ms/step - loss: 6.3826e-04\n",
      "Epoch 81/100\n",
      "2204/2204 [==============================] - 12s 5ms/step - loss: 6.4889e-04\n",
      "Epoch 82/100\n",
      "2204/2204 [==============================] - 12s 5ms/step - loss: 6.6446e-04\n",
      "Epoch 83/100\n",
      "2204/2204 [==============================] - 12s 5ms/step - loss: 7.7549e-04\n",
      "Epoch 84/100\n",
      "2204/2204 [==============================] - 12s 5ms/step - loss: 7.1114e-04\n",
      "Epoch 85/100\n",
      "2204/2204 [==============================] - 12s 5ms/step - loss: 6.6600e-04\n",
      "Epoch 86/100\n",
      "2204/2204 [==============================] - 12s 5ms/step - loss: 6.2634e-04\n",
      "Epoch 87/100\n",
      "2204/2204 [==============================] - 12s 5ms/step - loss: 7.2235e-04\n",
      "Epoch 88/100\n",
      "2204/2204 [==============================] - 12s 5ms/step - loss: 7.0292e-04\n",
      "Epoch 89/100\n",
      "2204/2204 [==============================] - 12s 5ms/step - loss: 7.0724e-04\n",
      "Epoch 90/100\n",
      "2204/2204 [==============================] - 12s 5ms/step - loss: 6.9383e-04\n",
      "Epoch 91/100\n",
      "2204/2204 [==============================] - 12s 5ms/step - loss: 6.4933e-04\n",
      "Epoch 92/100\n",
      "2204/2204 [==============================] - 12s 5ms/step - loss: 6.3972e-04\n",
      "Epoch 93/100\n",
      "2204/2204 [==============================] - 12s 5ms/step - loss: 6.9888e-04\n",
      "Epoch 94/100\n",
      "2204/2204 [==============================] - 12s 5ms/step - loss: 6.5813e-04\n",
      "Epoch 95/100\n",
      "2204/2204 [==============================] - 12s 5ms/step - loss: 7.1747e-04\n",
      "Epoch 96/100\n",
      "2204/2204 [==============================] - 12s 5ms/step - loss: 6.8872e-04\n",
      "Epoch 97/100\n",
      "2204/2204 [==============================] - 12s 5ms/step - loss: 6.6580e-04\n",
      "Epoch 98/100\n",
      "2204/2204 [==============================] - 12s 5ms/step - loss: 7.1219e-04\n",
      "Epoch 99/100\n",
      "2204/2204 [==============================] - 12s 5ms/step - loss: 6.0262e-04\n",
      "Epoch 100/100\n",
      "2204/2204 [==============================] - 12s 5ms/step - loss: 7.1782e-04\n"
     ]
    },
    {
     "data": {
      "text/plain": [
       "<keras.callbacks.History at 0x29a77d488d0>"
      ]
     },
     "execution_count": 7,
     "metadata": {},
     "output_type": "execute_result"
    }
   ],
   "source": [
    "regressor.compile(optimizer='adam', loss='mean_squared_error')\n",
    "regressor.fit(X_train, Y_train, epochs=100, batch_size=32)"
   ]
  },
  {
   "cell_type": "markdown",
   "metadata": {
    "collapsed": true
   },
   "source": [
    "## Predictions"
   ]
  },
  {
   "cell_type": "markdown",
   "metadata": {},
   "source": [
    "test data(1-1-2019 to 31-1-2019)"
   ]
  },
  {
   "cell_type": "code",
   "execution_count": 8,
   "metadata": {
    "collapsed": false
   },
   "outputs": [
    {
     "data": {
      "text/html": [
       "<div>\n",
       "<style scoped>\n",
       "    .dataframe tbody tr th:only-of-type {\n",
       "        vertical-align: middle;\n",
       "    }\n",
       "\n",
       "    .dataframe tbody tr th {\n",
       "        vertical-align: top;\n",
       "    }\n",
       "\n",
       "    .dataframe thead th {\n",
       "        text-align: right;\n",
       "    }\n",
       "</style>\n",
       "<table border=\"1\" class=\"dataframe\">\n",
       "  <thead>\n",
       "    <tr style=\"text-align: right;\">\n",
       "      <th></th>\n",
       "      <th>Date</th>\n",
       "      <th>Open</th>\n",
       "      <th>High</th>\n",
       "      <th>Low</th>\n",
       "      <th>Close</th>\n",
       "      <th>Volume</th>\n",
       "    </tr>\n",
       "  </thead>\n",
       "  <tbody>\n",
       "    <tr>\n",
       "      <th>0</th>\n",
       "      <td>1/2/2019</td>\n",
       "      <td>154.889999</td>\n",
       "      <td>158.850006</td>\n",
       "      <td>154.229996</td>\n",
       "      <td>157.919998</td>\n",
       "      <td>37039700</td>\n",
       "    </tr>\n",
       "    <tr>\n",
       "      <th>1</th>\n",
       "      <td>1/3/2019</td>\n",
       "      <td>143.979996</td>\n",
       "      <td>145.720001</td>\n",
       "      <td>142.000000</td>\n",
       "      <td>142.190002</td>\n",
       "      <td>91312200</td>\n",
       "    </tr>\n",
       "    <tr>\n",
       "      <th>2</th>\n",
       "      <td>1/4/2019</td>\n",
       "      <td>144.529999</td>\n",
       "      <td>148.550003</td>\n",
       "      <td>143.800003</td>\n",
       "      <td>148.259995</td>\n",
       "      <td>58607100</td>\n",
       "    </tr>\n",
       "    <tr>\n",
       "      <th>3</th>\n",
       "      <td>1/7/2019</td>\n",
       "      <td>148.699997</td>\n",
       "      <td>148.830002</td>\n",
       "      <td>145.899994</td>\n",
       "      <td>147.929993</td>\n",
       "      <td>54777800</td>\n",
       "    </tr>\n",
       "    <tr>\n",
       "      <th>4</th>\n",
       "      <td>1/8/2019</td>\n",
       "      <td>149.559998</td>\n",
       "      <td>151.820007</td>\n",
       "      <td>148.520004</td>\n",
       "      <td>150.750000</td>\n",
       "      <td>41025300</td>\n",
       "    </tr>\n",
       "  </tbody>\n",
       "</table>\n",
       "</div>"
      ],
      "text/plain": [
       "       Date        Open        High         Low       Close    Volume\n",
       "0  1/2/2019  154.889999  158.850006  154.229996  157.919998  37039700\n",
       "1  1/3/2019  143.979996  145.720001  142.000000  142.190002  91312200\n",
       "2  1/4/2019  144.529999  148.550003  143.800003  148.259995  58607100\n",
       "3  1/7/2019  148.699997  148.830002  145.899994  147.929993  54777800\n",
       "4  1/8/2019  149.559998  151.820007  148.520004  150.750000  41025300"
      ]
     },
     "execution_count": 8,
     "metadata": {},
     "output_type": "execute_result"
    }
   ],
   "source": [
    "test_data = pd.read_csv('Apple_Stock_Price_Test.csv')\n",
    "real_stock_price = test_data.iloc[:,1:2].values\n",
    "test_data.head()"
   ]
  },
  {
   "cell_type": "markdown",
   "metadata": {},
   "source": [
    "Test input data is previous 60 days"
   ]
  },
  {
   "cell_type": "code",
   "execution_count": 9,
   "metadata": {
    "collapsed": false
   },
   "outputs": [
    {
     "name": "stdout",
     "output_type": "stream",
     "text": [
      "(20, 60, 1)\n"
     ]
    }
   ],
   "source": [
    "dataset = pd.concat((train_data['Open'],test_data['Open']),axis=0)\n",
    "inputs = dataset[len(dataset)-len(test_data)-60:].values\n",
    "inputs = inputs.reshape(-1,1)\n",
    "inputs = sc.transform(inputs)\n",
    "X_test=[]\n",
    "for i in range(60,80):\n",
    "    X_test.append(inputs[i-60:i,0])\n",
    "X_test=np.array(X_test)\n",
    "X_test = np.reshape(X_test,(X_test.shape[0],X_test.shape[1],1))\n",
    "print(X_test.shape)"
   ]
  },
  {
   "cell_type": "code",
   "execution_count": 10,
   "metadata": {
    "collapsed": false
   },
   "outputs": [],
   "source": [
    "# Predict price and inverse transform predicted price\n",
    "predicted_stock_price = regressor.predict(X_test)\n",
    "predicted_stock_price = sc.inverse_transform(predicted_stock_price)"
   ]
  },
  {
   "cell_type": "code",
   "execution_count": 11,
   "metadata": {
    "collapsed": false
   },
   "outputs": [
    {
     "data": {
      "image/png": "[encoded data removed]",
      "text/plain": [
       "<Figure size 432x288 with 1 Axes>"
      ]
     },
     "metadata": {},
     "output_type": "display_data"
    }
   ],
   "source": [
    "plt.plot(real_stock_price, color = 'red', label = 'Real Apple Stock Price')\n",
    "plt.plot(predicted_stock_price, color = 'blue', label = 'Predicted Apple Stock Price')\n",
    "plt.title('Apple Stock Price Prediction')\n",
    "plt.xlabel('Time')\n",
    "plt.ylabel('Apple Stock Price')\n",
    "plt.legend()\n",
    "plt.show()"
   ]
  }
 ],
 "metadata": {
  "anaconda-cloud": {},
  "kernelspec": {
   "display_name": "Python [default]",
   "language": "python",
   "name": "python3"
  },
  "language_info": {
   "codemirror_mode": {
    "name": "ipython",
    "version": 3
   },
   "file_extension": ".py",
   "mimetype": "text/x-python",
   "name": "python",
   "nbconvert_exporter": "python",
   "pygments_lexer": "ipython3",
   "version": "3.5.5"
  }
 },
 "nbformat": 4,
 "nbformat_minor": 2
}
